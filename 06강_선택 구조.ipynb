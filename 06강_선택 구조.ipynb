{
  "cells": [
    {
      "cell_type": "markdown",
      "metadata": {
        "colab_type": "text",
        "id": "view-in-github"
      },
      "source": [
        "<a href=\"https://colab.research.google.com/github/jaehwachung/Python-Programming/blob/main/6%EA%B0%95_%EC%8B%A4%EC%8A%B5(%EC%9B%90%EB%B3%B8).ipynb\" target=\"_parent\"><img src=\"https://colab.research.google.com/assets/colab-badge.svg\" alt=\"Open In Colab\"/></a>"
      ]
    },
    {
      "cell_type": "markdown",
      "metadata": {
        "id": "hckgpz65oDBv"
      },
      "source": [
        "# 6장. 선택 구조\n",
        "\n",
        "## 6장 1절"
      ]
    },
    {
      "cell_type": "code",
      "execution_count": 1,
      "metadata": {},
      "outputs": [
        {
          "data": {
            "text/plain": [
              "False"
            ]
          },
          "execution_count": 1,
          "metadata": {},
          "output_type": "execute_result"
        }
      ],
      "source": [
        "3 > 6"
      ]
    },
    {
      "cell_type": "code",
      "execution_count": 2,
      "metadata": {},
      "outputs": [
        {
          "data": {
            "text/plain": [
              "True"
            ]
          },
          "execution_count": 2,
          "metadata": {},
          "output_type": "execute_result"
        }
      ],
      "source": [
        "3 < 6"
      ]
    },
    {
      "cell_type": "code",
      "execution_count": 3,
      "metadata": {},
      "outputs": [
        {
          "data": {
            "text/plain": [
              "False"
            ]
          },
          "execution_count": 3,
          "metadata": {},
          "output_type": "execute_result"
        }
      ],
      "source": [
        "3 == 6"
      ]
    },
    {
      "cell_type": "code",
      "execution_count": 4,
      "metadata": {},
      "outputs": [
        {
          "data": {
            "text/plain": [
              "True"
            ]
          },
          "execution_count": 4,
          "metadata": {},
          "output_type": "execute_result"
        }
      ],
      "source": [
        "rad = 10\n",
        "\n",
        "rad == 10"
      ]
    },
    {
      "cell_type": "code",
      "execution_count": 5,
      "metadata": {},
      "outputs": [
        {
          "name": "stdout",
          "output_type": "stream",
          "text": [
            "False\n"
          ]
        }
      ],
      "source": [
        "light_on = 3 > 6\n",
        "print(light_on)"
      ]
    },
    {
      "cell_type": "code",
      "execution_count": 7,
      "metadata": {},
      "outputs": [
        {
          "name": "stdout",
          "output_type": "stream",
          "text": [
            "False\n"
          ]
        }
      ],
      "source": [
        "suf = 10\n",
        "vol = 20\n",
        "isStop = suf == vol\n",
        "print(isStop)"
      ]
    },
    {
      "cell_type": "code",
      "execution_count": 9,
      "metadata": {
        "id": "ZW1w8qQHoAm3"
      },
      "outputs": [
        {
          "name": "stdout",
          "output_type": "stream",
          "text": [
            "원뿔의 부피는 37680.0 입니다.\n",
            "원뿔의 겉넓이는 6594.0 입니다\n"
          ]
        }
      ],
      "source": [
        "# 원본\n",
        "\n",
        "#반지름 사용자 입력\n",
        "rad = int(input(\"반지름을 입력하세요:\"))\n",
        "#높이 사용자 입력\n",
        "hei = int(input(\"높이를 입력하세요:\"))\n",
        "#부피&겉넓이 계산\n",
        "vol = 1/3 * 3.14 * rad ** 2 * hei\n",
        "suf = 3.14 * rad ** 2 + 3.14 * rad * hei\n",
        "print(\"원뿔의 부피는\" ,vol, \"입니다.\")\n",
        "print(\"원뿔의 겉넓이는\" ,suf, \"입니다\")"
      ]
    },
    {
      "cell_type": "code",
      "execution_count": 10,
      "metadata": {},
      "outputs": [
        {
          "name": "stdout",
          "output_type": "stream",
          "text": [
            "원뿔의 부피는 12559.999999999998 입니다.\n",
            "원뿔의 겉넓이는 3140.0 입니다\n"
          ]
        }
      ],
      "source": [
        "#반지름 사용자 입력\n",
        "rad = int(input(\"반지름을 입력하세요:\")) # 20\n",
        "#높이 사용자 입력\n",
        "hei = int(input(\"높이를 입력하세요:\")) # 30\n",
        "\n",
        "if rad > 0 :\n",
        "    #부피&겉넓이 계산\n",
        "    vol = 1/3 * 3.14 * rad ** 2 * hei\n",
        "    suf = 3.14 * rad ** 2 + 3.14 * rad * hei\n",
        "    print(\"원뿔의 부피는\" ,vol, \"입니다.\")\n",
        "    print(\"원뿔의 겉넓이는\" ,suf, \"입니다\")"
      ]
    },
    {
      "cell_type": "code",
      "execution_count": null,
      "metadata": {},
      "outputs": [],
      "source": [
        "# 바로 위와 동일한 코드. 대신 반지름 입력을 음수로 함. -> 결과 없음.\n",
        "\n",
        "#반지름 사용자 입력\n",
        "rad = int(input(\"반지름을 입력하세요:\")) # -20\n",
        "#높이 사용자 입력\n",
        "hei = int(input(\"높이를 입력하세요:\")) # 30\n",
        "\n",
        "if rad > 0 :\n",
        "    #부피&겉넓이 계산\n",
        "    vol = 1/3 * 3.14 * rad ** 2 * hei\n",
        "    suf = 3.14 * rad ** 2 + 3.14 * rad * hei\n",
        "    print(\"원뿔의 부피는\" ,vol, \"입니다.\")\n",
        "    print(\"원뿔의 겉넓이는\" ,suf, \"입니다\")"
      ]
    },
    {
      "cell_type": "markdown",
      "metadata": {
        "id": "cquz2vj9oGml"
      },
      "source": [
        "## 6강 2절"
      ]
    },
    {
      "cell_type": "code",
      "execution_count": 13,
      "metadata": {},
      "outputs": [
        {
          "name": "stdout",
          "output_type": "stream",
          "text": [
            "False\n"
          ]
        }
      ],
      "source": [
        "temp = 20\n",
        "fruit = \"apple\"\n",
        "\n",
        "print(temp >= 27 and fruit == \"pear\")"
      ]
    },
    {
      "cell_type": "code",
      "execution_count": 14,
      "metadata": {},
      "outputs": [
        {
          "name": "stdout",
          "output_type": "stream",
          "text": [
            "True\n"
          ]
        }
      ],
      "source": [
        "temp = 20\n",
        "fruit = \"apple\"\n",
        "\n",
        "print(temp <= 27 or fruit == \"pear\")"
      ]
    },
    {
      "cell_type": "code",
      "execution_count": 15,
      "metadata": {},
      "outputs": [
        {
          "name": "stdout",
          "output_type": "stream",
          "text": [
            "False\n"
          ]
        }
      ],
      "source": [
        "temp = 20\n",
        "fruit = \"apple\"\n",
        "\n",
        "print(not temp <= 27)"
      ]
    },
    {
      "cell_type": "code",
      "execution_count": 16,
      "metadata": {
        "id": "SuPkvKRSoJBE"
      },
      "outputs": [
        {
          "name": "stdout",
          "output_type": "stream",
          "text": [
            "원뿔의 부피는 12559.999999999998 입니다.\n",
            "원뿔의 겉넓이는 3140.0 입니다\n"
          ]
        }
      ],
      "source": [
        "# 정상 실행 - 양수 입력\n",
        "\n",
        "#반지름 사용자 입력\n",
        "rad = int(input(\"반지름을 입력하세요:\")) # 20\n",
        "#높이 사용자 입력\n",
        "hei = int(input(\"높이를 입력하세요:\")) # 30\n",
        "\n",
        "if rad > 0 and hei > 0 :\n",
        "    #부피&겉넓이 계산\n",
        "    vol = 1/3 * 3.14 * rad ** 2 * hei\n",
        "    suf = 3.14 * rad ** 2 + 3.14 * rad * hei\n",
        "    print(\"원뿔의 부피는\" ,vol, \"입니다.\")\n",
        "    print(\"원뿔의 겉넓이는\" ,suf, \"입니다\")"
      ]
    },
    {
      "cell_type": "code",
      "execution_count": null,
      "metadata": {},
      "outputs": [],
      "source": [
        "# 정상 실행 - 높이 음수 입력 -> 결과 없음\n",
        "\n",
        "#반지름 사용자 입력\n",
        "rad = int(input(\"반지름을 입력하세요:\")) # 20\n",
        "#높이 사용자 입력\n",
        "hei = int(input(\"높이를 입력하세요:\")) # -30\n",
        "\n",
        "if rad > 0 and hei > 0 :\n",
        "    #부피&겉넓이 계산\n",
        "    vol = 1/3 * 3.14 * rad ** 2 * hei\n",
        "    suf = 3.14 * rad ** 2 + 3.14 * rad * hei\n",
        "    print(\"원뿔의 부피는\" ,vol, \"입니다.\")\n",
        "    print(\"원뿔의 겉넓이는\" ,suf, \"입니다\")"
      ]
    },
    {
      "cell_type": "markdown",
      "metadata": {},
      "source": [
        "## 6강 3절"
      ]
    },
    {
      "cell_type": "markdown",
      "metadata": {},
      "source": [
        "else를 이용한 원뿔 프로그램 개선"
      ]
    },
    {
      "cell_type": "code",
      "execution_count": 19,
      "metadata": {},
      "outputs": [
        {
          "name": "stdout",
          "output_type": "stream",
          "text": [
            "원뿔의 부피는 12559.999999999998 입니다.\n",
            "원뿔의 겉넓이는 3140.0 입니다\n"
          ]
        }
      ],
      "source": [
        "# 정상 동작 - 양수 입력\n",
        "\n",
        "#반지름 사용자 입력\n",
        "rad = int(input(\"반지름을 입력하세요:\")) # 20\n",
        "#높이 사용자 입력\n",
        "hei = int(input(\"높이를 입력하세요:\")) # 30\n",
        "\n",
        "if rad > 0 and hei > 0 :\n",
        "    #부피&겉넓이 계산\n",
        "    vol = 1/3 * 3.14 * rad ** 2 * hei\n",
        "    suf = 3.14 * rad ** 2 + 3.14 * rad * hei\n",
        "    print(\"원뿔의 부피는\" ,vol, \"입니다.\")\n",
        "    print(\"원뿔의 겉넓이는\" ,suf, \"입니다\")\n",
        "else :\n",
        "    print(\"반지름과 높이의 값을 모두 양수로 입력해주세요\")"
      ]
    },
    {
      "cell_type": "code",
      "execution_count": 20,
      "metadata": {},
      "outputs": [
        {
          "name": "stdout",
          "output_type": "stream",
          "text": [
            "반지름과 높이의 값을 모두 양수로 입력해주세요\n"
          ]
        }
      ],
      "source": [
        "# 정상 동작 - 음수 입력 -> 안내문구 출력 완료\n",
        "\n",
        "#반지름 사용자 입력\n",
        "rad = int(input(\"반지름을 입력하세요:\")) # 20\n",
        "#높이 사용자 입력\n",
        "hei = int(input(\"높이를 입력하세요:\")) # -30\n",
        "\n",
        "if rad > 0 and hei > 0 :\n",
        "    #부피&겉넓이 계산\n",
        "    vol = 1/3 * 3.14 * rad ** 2 * hei\n",
        "    suf = 3.14 * rad ** 2 + 3.14 * rad * hei\n",
        "    print(\"원뿔의 부피는\" ,vol, \"입니다.\")\n",
        "    print(\"원뿔의 겉넓이는\" ,suf, \"입니다\")\n",
        "else :\n",
        "    print(\"반지름과 높이의 값을 모두 양수로 입력해주세요\")"
      ]
    },
    {
      "cell_type": "markdown",
      "metadata": {
        "id": "_2ZlVieZpKuT"
      },
      "source": [
        "가장 큰 수 찾는 프로그램"
      ]
    },
    {
      "cell_type": "code",
      "execution_count": 21,
      "metadata": {},
      "outputs": [
        {
          "data": {
            "text/plain": [
              "30"
            ]
          },
          "execution_count": 21,
          "metadata": {},
          "output_type": "execute_result"
        }
      ],
      "source": [
        "# A, B, C 사용자 입력\n",
        "A = int(input(\"A 입력: \")) # 10\n",
        "B = int(input(\"B 입력: \")) # 20\n",
        "C = int(input(\"C 입력: \")) # 30\n",
        "\n",
        "# A, B, C 중 가장 큰 수 출력\n",
        "max(A, B, C)"
      ]
    },
    {
      "cell_type": "code",
      "execution_count": 24,
      "metadata": {},
      "outputs": [
        {
          "name": "stdout",
          "output_type": "stream",
          "text": [
            "30\n"
          ]
        }
      ],
      "source": [
        "# A, B, C 사용자 입력\n",
        "A = int(input(\"A 입력: \")) # 10\n",
        "B = int(input(\"B 입력: \")) # 20\n",
        "C = int(input(\"C 입력: \")) # 30\n",
        "\n",
        "# A, B, C 중 가장 큰 수 출력\n",
        "if A > B:\n",
        "    if A > C : # A가 가장 큰 경우\n",
        "        print(A)\n",
        "    else : # A <= C\n",
        "        print(C)\n",
        "else : # B >= A\n",
        "    if B > C : # B가 가장 큰 경우\n",
        "        print(B)\n",
        "    else : # B <= C\n",
        "        print(C)"
      ]
    }
  ],
  "metadata": {
    "colab": {
      "authorship_tag": "ABX9TyPSMrkx1D4lV1G94HA1244X",
      "include_colab_link": true,
      "provenance": []
    },
    "kernelspec": {
      "display_name": "Python 3",
      "name": "python3"
    },
    "language_info": {
      "codemirror_mode": {
        "name": "ipython",
        "version": 3
      },
      "file_extension": ".py",
      "mimetype": "text/x-python",
      "name": "python",
      "nbconvert_exporter": "python",
      "pygments_lexer": "ipython3",
      "version": "3.13.0"
    }
  },
  "nbformat": 4,
  "nbformat_minor": 0
}
